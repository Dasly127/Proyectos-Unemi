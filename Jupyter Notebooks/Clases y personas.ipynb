{
 "cells": [
  {
   "cell_type": "markdown",
   "metadata": {},
   "source": [
    "Definimos la clase personas con un solo contructor\n",
    "y le damos los atributos que serán los nombres\n",
    "apellidos y edad"
   ]
  },
  {
   "cell_type": "code",
   "execution_count": 1,
   "metadata": {},
   "outputs": [],
   "source": [
    "#Clase creada\n",
    "class Persona:\n",
    "\t#Para crear un método usamos __init__\n",
    "\tdef __init__(self):\n",
    "\t\tself.nombre = \"Juan\"\n",
    "\t\tself.apellido = \"Pérez\"\n",
    "\t\tself.edad = 29"
   ]
  },
  {
   "cell_type": "markdown",
   "metadata": {},
   "source": [
    "Esto es lo que ejecuta el código o lo que va mandar a imprimir por pantalla\n",
    "llamando a los atributos de la clase"
   ]
  },
  {
   "cell_type": "code",
   "execution_count": null,
   "metadata": {},
   "outputs": [],
   "source": [
    "#Para llamar el objeto \n",
    "persona1 = Persona()\n",
    "print(persona1.nombre) #Para llamar atributos de una clase\n",
    "print(persona1.apellido)\n",
    "print(persona1.edad)"
   ]
  }
 ],
 "metadata": {
  "kernelspec": {
   "display_name": "Python 3",
   "language": "python",
   "name": "python3"
  },
  "language_info": {
   "codemirror_mode": {
    "name": "ipython",
    "version": 3
   },
   "file_extension": ".py",
   "mimetype": "text/x-python",
   "name": "python",
   "nbconvert_exporter": "python",
   "pygments_lexer": "ipython3",
   "version": "3.12.0"
  }
 },
 "nbformat": 4,
 "nbformat_minor": 2
}
