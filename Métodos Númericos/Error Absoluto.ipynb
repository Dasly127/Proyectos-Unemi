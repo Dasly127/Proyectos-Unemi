{
 "cells": [
  {
   "cell_type": "markdown",
   "metadata": {},
   "source": [
    "Definimos una Función que nos permita calcular el Valor Absoluto\n",
    "Python tiene una sintaxys muy amigable que nos permite realizar cálculos de manera simplificada\n",
    "\n",
    "Teniendo la Función \"error_absoluto\" le damos como parametro (valor_real y valor_estimado)\n",
    "\n",
    "Retornamos la Fórmula para calcular el error absoluto con la ayuda de la función que nos ofrece Python (abs)"
   ]
  },
  {
   "cell_type": "code",
   "execution_count": null,
   "metadata": {},
   "outputs": [],
   "source": [
    "def error_absoluto(valor_real, valor_estimado):\n",
    "    return abs(valor_real - valor_estimado)"
   ]
  },
  {
   "cell_type": "markdown",
   "metadata": {},
   "source": [
    "En este caso no le pedimos al usuario que ingrese valores porque solo será una demostracióm\n",
    "Creamos las variables necesarias para que nuestra Función error_absoluto las pueda usar y realizar la operación\n",
    "Creamos la variable error que hará un llamado a la función que creamos"
   ]
  },
  {
   "cell_type": "code",
   "execution_count": null,
   "metadata": {},
   "outputs": [],
   "source": [
    "# Ejemplo de uso\n",
    "valor_real = 10.0\n",
    "valor_estimado = 8.5\n",
    "error = error_absoluto(valor_real, valor_estimado)\n"
   ]
  },
  {
   "cell_type": "markdown",
   "metadata": {},
   "source": [
    "Mandamos un mensaje por pantalla usando un \"print\" para poder mostrar el resultado"
   ]
  },
  {
   "cell_type": "code",
   "execution_count": null,
   "metadata": {},
   "outputs": [],
   "source": [
    "print(f\"Error absoluto: {error}\")"
   ]
  }
 ],
 "metadata": {
  "kernelspec": {
   "display_name": "Python 3",
   "language": "python",
   "name": "python3"
  },
  "language_info": {
   "codemirror_mode": {
    "name": "ipython",
    "version": 3
   },
   "file_extension": ".py",
   "mimetype": "text/x-python",
   "name": "python",
   "nbconvert_exporter": "python",
   "pygments_lexer": "ipython3",
   "version": "3.12.4"
  }
 },
 "nbformat": 4,
 "nbformat_minor": 2
}
