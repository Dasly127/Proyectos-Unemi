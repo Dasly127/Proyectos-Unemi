{
 "cells": [
  {
   "cell_type": "markdown",
   "metadata": {},
   "source": [
    "Definimos una Función que nos permita calcular el Valor Absoluto\n",
    "Python tiene una sintaxys muy amigable que nos permite realizar cálculos de manera simplificada\n",
    "\n",
    "Teniendo la Función \"error_absoluto\" le damos como parametro (valor_real y valor_estimado)\n",
    "\n",
    "Retornamos la Fórmula para calcular el error absoluto con la ayuda de la función que nos ofrece Python (abs)\n"
   ]
  },
  {
   "cell_type": "code",
   "execution_count": null,
   "metadata": {},
   "outputs": [],
   "source": [
    "def error_absoluto(valor_real, valor_estimado):\n",
    "    if valor_real < 0:\n",
    "        return \"Ingrese un valor real correcto.\"\n",
    "    if valor_estimado < 0:\n",
    "        return \"Ingrese un valor estimado correcto.\"\n",
    "    \n",
    "    return abs(valor_real - valor_estimado) "
   ]
  },
  {
   "cell_type": "code",
   "execution_count": null,
   "metadata": {},
   "outputs": [],
   "source": [
    "def error_relativo(valor_real, valor_estimado):\n",
    "    if valor_real == 0:\n",
    "        return \"El valor real no puede ser cero para calcular el error relativo.\"\n",
    "    \n",
    "    return abs((valor_real - valor_estimado) / valor_real)"
   ]
  },
  {
   "cell_type": "code",
   "execution_count": null,
   "metadata": {},
   "outputs": [],
   "source": [
    "while True:\n",
    "    print(\"\\nMenú de Opciones\")\n",
    "    print(\"1. Calcular el error absoluto\")\n",
    "    print(\"2. Calcular el error relativo\")\n",
    "    print(\"3. Salir del Programa\")\n",
    "    \n",
    "    try:\n",
    "        opción = int(input(\"\\nSelecciona una opción: \"))\n",
    "    except ValueError:\n",
    "        print(\"Por favor, ingresa un número válido para la opción.\")\n",
    "        continue"
   ]
  },
  {
   "cell_type": "code",
   "execution_count": null,
   "metadata": {},
   "outputs": [],
   "source": [
    "while True:\n",
    "    print(\"\\nMenú de Opciones\")\n",
    "    print(\"1. Calcular el error absoluto\")\n",
    "    print(\"2. Calcular el error relativo\")\n",
    "    print(\"3. Salir del Programa\")\n",
    "    \n",
    "    try:\n",
    "        opción = int(input(\"\\nSelecciona una opción: \"))\n",
    "    except ValueError:\n",
    "        print(\"Por favor, ingresa un número válido para la opción.\")\n",
    "        continue\n",
    "    \n",
    "    if opción == 1:\n",
    "        try:\n",
    "            valor_real = float(input(\"Ingrese el valor real por favor: \"))\n",
    "            valor_estimado = float(input(\"Ingrese el valor estimado por favor: \"))\n",
    "            error = error_absoluto(valor_real, valor_estimado)\n",
    "            print(\"El error absoluto es:\", error)\n",
    "        except ValueError:\n",
    "            print(\"Por favor, ingrese valores numéricos válidos.\")\n",
    "    \n",
    "    elif opción == 2:\n",
    "        try:\n",
    "            valor_real = float(input(\"Ingrese el valor real por favor: \"))\n",
    "            valor_estimado = float(input(\"Ingrese el valor estimado por favor: \"))\n",
    "            error = error_relativo(valor_real, valor_estimado)\n",
    "            print(\"El error relativo es:\", error)\n",
    "        except ValueError:\n",
    "            print(\"Por favor, ingrese valores numéricos válidos.\")\n",
    "    \n",
    "    elif opción == 3:\n",
    "        print(\"Saliendo del programa...\")\n",
    "        break\n",
    "    \n",
    "    else:\n",
    "        print(\"Opción no válida, por favor seleccione una opción válida del menú.\")"
   ]
  }
 ],
 "metadata": {
  "kernelspec": {
   "display_name": "Python 3",
   "language": "python",
   "name": "python3"
  },
  "language_info": {
   "codemirror_mode": {
    "name": "ipython",
    "version": 3
   },
   "file_extension": ".py",
   "mimetype": "text/x-python",
   "name": "python",
   "nbconvert_exporter": "python",
   "pygments_lexer": "ipython3",
   "version": "3.12.4"
  }
 },
 "nbformat": 4,
 "nbformat_minor": 2
}
